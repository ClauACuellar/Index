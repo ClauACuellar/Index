{
  "nbformat": 4,
  "nbformat_minor": 0,
  "metadata": {
    "colab": {
      "provenance": [],
      "authorship_tag": "ABX9TyNdOgEXrHk9tc844D+8x2tQ",
      "include_colab_link": true
    },
    "kernelspec": {
      "name": "python3",
      "display_name": "Python 3"
    },
    "language_info": {
      "name": "python"
    }
  },
  "cells": [
    {
      "cell_type": "markdown",
      "metadata": {
        "id": "view-in-github",
        "colab_type": "text"
      },
      "source": [
        "<a href=\"https://colab.research.google.com/github/ClauACuellar/Index/blob/main/Robot_Trading_Challenge.ipynb\" target=\"_parent\"><img src=\"https://colab.research.google.com/assets/colab-badge.svg\" alt=\"Open In Colab\"/></a>"
      ]
    },
    {
      "cell_type": "markdown",
      "source": [
        "# **Robot_Trading_Challenge**:)"
      ],
      "metadata": {
        "id": "uDcV4VKlDEpO"
      }
    },
    {
      "cell_type": "markdown",
      "source": [
        "# **Desafío**"
      ],
      "metadata": {
        "id": "d51-_pmMZqKv"
      }
    },
    {
      "cell_type": "markdown",
      "source": [
        "¿Estás preparado? He escogido para tí, un gran proyecto, prometo que no será difícil, pero tampoco será fácil! 😉\n",
        "\n",
        "Vamos a contruir un Robot Trading en Python capaz de tomar decisiones de compra y venta de Bitcoin en tiempo real, ¿interesante verdad?,\n"
      ],
      "metadata": {
        "id": "qAQuATCjZt9J"
      }
    },
    {
      "cell_type": "markdown",
      "source": [
        "## 1. Configuracion del Ambiente\n",
        "\n",
        "1. Configuración del ambiente: Para empezar, puedes utilizar un entorno virtual como Google Colaboratory, o si deseas, puedes usar el editor Python de tu preferencia, sólo asegúrate de tener Python 3.x instalado en tu computadora. También necesitarás instalar algunas librerías de Python que son esenciales para este proyecto, como Pandas, Numpy, Matplotlib, etc."
      ],
      "metadata": {
        "id": "90ZjOk3mSReQ"
      }
    },
    {
      "cell_type": "code",
      "source": [
        "\n",
        "!python -V\n",
        "print('------')\n",
        "!pip show Pandas | grep 'Name\\|Version'\n",
        "print('------')\n",
        "!pip show Numpy | grep 'Name\\|Version'\n",
        "print('------')\n",
        "!pip show Matplotlib | grep 'Name\\|Version'\n",
        "\n"
      ],
      "metadata": {
        "id": "fV9_DVd5SQ62",
        "colab": {
          "base_uri": "https://localhost:8080/"
        },
        "outputId": "f9db28de-53bd-4351-d2b9-54fc3a6e514d"
      },
      "execution_count": 1,
      "outputs": [
        {
          "output_type": "stream",
          "name": "stdout",
          "text": [
            "Python 3.10.12\n",
            "------\n",
            "Name: pandas\n",
            "Version: 2.0.3\n",
            "------\n",
            "Name: numpy\n",
            "Version: 1.25.2\n",
            "------\n",
            "Name: matplotlib\n",
            "Version: 3.7.1\n"
          ]
        }
      ]
    },
    {
      "cell_type": "code",
      "execution_count": 2,
      "metadata": {
        "id": "C44jGlVqZHbW"
      },
      "outputs": [],
      "source": [
        "import pandas as pd #Para analisis de DF\n",
        "from bs4 import BeautifulSoup #Extraccion de los datos de la pagina web\n",
        "import requests #Para que llame la pagina web\n",
        "import matplotlib.pyplot as plt #Graficas\n",
        "import numpy as np #Para la parte numerica\n",
        "import json\n",
        "import time\n",
        "\n",
        "global df_bitcoin, precio_actual, tendencia, media_bitcoin, algoritmo_decision, alta, baja #Declaro las variables globales\n",
        "precio_actual= []\n",
        "tendencia=[]\n",
        "media_bitcoin=[]\n",
        "algoritmo_decision=[]\n",
        "alta=[]\n",
        "baja=[]"
      ]
    },
    {
      "cell_type": "markdown",
      "source": [
        "## 2. Obtención de Datos\n",
        "\n",
        "\n",
        "2. Obtención de datos: Necesitarás acceder a una API que proporcione datos históricos de precios de Bitcoin en formato JSON. Por otro lado, necesitarás realizar Web Scraping en un site de noticias para obtener el precio actual y algunos indicadores de tendencias del Bitcoin."
      ],
      "metadata": {
        "id": "bvLQQeC8SMG2"
      }
    },
    {
      "cell_type": "code",
      "source": [
        "!pip install yfinance\n"
      ],
      "metadata": {
        "id": "bCsJMtoRGYrs",
        "colab": {
          "base_uri": "https://localhost:8080/"
        },
        "outputId": "bdd0212a-6cda-46d4-c9e9-732837fafbd7"
      },
      "execution_count": 3,
      "outputs": [
        {
          "output_type": "stream",
          "name": "stdout",
          "text": [
            "Requirement already satisfied: yfinance in /usr/local/lib/python3.10/dist-packages (0.2.37)\n",
            "Requirement already satisfied: pandas>=1.3.0 in /usr/local/lib/python3.10/dist-packages (from yfinance) (2.0.3)\n",
            "Requirement already satisfied: numpy>=1.16.5 in /usr/local/lib/python3.10/dist-packages (from yfinance) (1.25.2)\n",
            "Requirement already satisfied: requests>=2.31 in /usr/local/lib/python3.10/dist-packages (from yfinance) (2.31.0)\n",
            "Requirement already satisfied: multitasking>=0.0.7 in /usr/local/lib/python3.10/dist-packages (from yfinance) (0.0.11)\n",
            "Requirement already satisfied: lxml>=4.9.1 in /usr/local/lib/python3.10/dist-packages (from yfinance) (4.9.4)\n",
            "Requirement already satisfied: appdirs>=1.4.4 in /usr/local/lib/python3.10/dist-packages (from yfinance) (1.4.4)\n",
            "Requirement already satisfied: pytz>=2022.5 in /usr/local/lib/python3.10/dist-packages (from yfinance) (2023.4)\n",
            "Requirement already satisfied: frozendict>=2.3.4 in /usr/local/lib/python3.10/dist-packages (from yfinance) (2.4.1)\n",
            "Requirement already satisfied: peewee>=3.16.2 in /usr/local/lib/python3.10/dist-packages (from yfinance) (3.17.1)\n",
            "Requirement already satisfied: beautifulsoup4>=4.11.1 in /usr/local/lib/python3.10/dist-packages (from yfinance) (4.12.3)\n",
            "Requirement already satisfied: html5lib>=1.1 in /usr/local/lib/python3.10/dist-packages (from yfinance) (1.1)\n",
            "Requirement already satisfied: soupsieve>1.2 in /usr/local/lib/python3.10/dist-packages (from beautifulsoup4>=4.11.1->yfinance) (2.5)\n",
            "Requirement already satisfied: six>=1.9 in /usr/local/lib/python3.10/dist-packages (from html5lib>=1.1->yfinance) (1.16.0)\n",
            "Requirement already satisfied: webencodings in /usr/local/lib/python3.10/dist-packages (from html5lib>=1.1->yfinance) (0.5.1)\n",
            "Requirement already satisfied: python-dateutil>=2.8.2 in /usr/local/lib/python3.10/dist-packages (from pandas>=1.3.0->yfinance) (2.8.2)\n",
            "Requirement already satisfied: tzdata>=2022.1 in /usr/local/lib/python3.10/dist-packages (from pandas>=1.3.0->yfinance) (2024.1)\n",
            "Requirement already satisfied: charset-normalizer<4,>=2 in /usr/local/lib/python3.10/dist-packages (from requests>=2.31->yfinance) (3.3.2)\n",
            "Requirement already satisfied: idna<4,>=2.5 in /usr/local/lib/python3.10/dist-packages (from requests>=2.31->yfinance) (3.6)\n",
            "Requirement already satisfied: urllib3<3,>=1.21.1 in /usr/local/lib/python3.10/dist-packages (from requests>=2.31->yfinance) (2.0.7)\n",
            "Requirement already satisfied: certifi>=2017.4.17 in /usr/local/lib/python3.10/dist-packages (from requests>=2.31->yfinance) (2024.2.2)\n"
          ]
        }
      ]
    },
    {
      "cell_type": "code",
      "source": [
        "import yfinance as yf\n",
        "btc_usd = yf.Ticker(\"BTC-USD\")\n",
        "# Obteniendo la informacion\n",
        "btc_info= btc_usd.info\n",
        "for line in btc_info.items():\n",
        "  print(':', line)\n"
      ],
      "metadata": {
        "colab": {
          "base_uri": "https://localhost:8080/"
        },
        "id": "0BlToGG48UjO",
        "outputId": "2e736613-6c11-4e51-ebff-9541e3158dca"
      },
      "execution_count": 4,
      "outputs": [
        {
          "output_type": "stream",
          "name": "stdout",
          "text": [
            ": ('name', 'Bitcoin')\n",
            ": ('startDate', 1278979200)\n",
            ": ('description', 'Bitcoin (BTC) is a cryptocurrency launched in 2010. Users are able to generate BTC through the process of mining. Bitcoin has a current supply of 19,674,625. The last known price of Bitcoin is 67,897.22799681 USD and is up 1.73 over the last 24 hours. It is currently trading on 10957 active market(s) with $28,511,184,103.78 traded over the last 24 hours. More information can be found at https://bitcoin.org/.')\n",
            ": ('maxAge', 86400)\n",
            ": ('priceHint', 2)\n",
            ": ('previousClose', 67845.94)\n",
            ": ('open', 67845.94)\n",
            ": ('dayLow', 67532.99)\n",
            ": ('dayHigh', 68395.81)\n",
            ": ('regularMarketPreviousClose', 67845.94)\n",
            ": ('regularMarketOpen', 67845.94)\n",
            ": ('regularMarketDayLow', 67532.99)\n",
            ": ('regularMarketDayHigh', 68395.81)\n",
            ": ('volume', 20392849408)\n",
            ": ('regularMarketVolume', 20392849408)\n",
            ": ('averageVolume', 34537022141)\n",
            ": ('averageVolume10days', 32586859287)\n",
            ": ('averageDailyVolume10Day', 32586859287)\n",
            ": ('marketCap', 1344647856128)\n",
            ": ('fiftyTwoWeekLow', 24797.168)\n",
            ": ('fiftyTwoWeekHigh', 73750.07)\n",
            ": ('fiftyDayAverage', 63775.062)\n",
            ": ('twoHundredDayAverage', 44362.54)\n",
            ": ('currency', 'USD')\n",
            ": ('fromCurrency', 'BTC')\n",
            ": ('toCurrency', 'USD=X')\n",
            ": ('lastMarket', 'CoinMarketCap')\n",
            ": ('coinMarketCapLink', 'https://coinmarketcap.com/currencies/bitcoin')\n",
            ": ('volume24Hr', 20392849408)\n",
            ": ('volumeAllCurrencies', 20392849408)\n",
            ": ('circulatingSupply', 19674924)\n",
            ": ('exchange', 'CCC')\n",
            ": ('quoteType', 'CRYPTOCURRENCY')\n",
            ": ('symbol', 'BTC-USD')\n",
            ": ('underlyingSymbol', 'BTC-USD')\n",
            ": ('shortName', 'Bitcoin USD')\n",
            ": ('longName', 'Bitcoin USD')\n",
            ": ('firstTradeDateEpochUtc', 1410912000)\n",
            ": ('timeZoneFullName', 'UTC')\n",
            ": ('timeZoneShortName', 'UTC')\n",
            ": ('uuid', '74397779-1589-3270-8c45-b7f1a7345b3a')\n",
            ": ('messageBoardId', 'finmb_BTC_CCC')\n",
            ": ('trailingPegRatio', None)\n"
          ]
        }
      ]
    },
    {
      "cell_type": "code",
      "source": [
        "btc_info['coinMarketCapLink']\n",
        "#datos_html = pd.read_html('coinmarketcap.com/currencies/bitcoin/historical-data/')\n",
        "# get historical market data\n"
      ],
      "metadata": {
        "colab": {
          "base_uri": "https://localhost:8080/",
          "height": 35
        },
        "id": "QYIw8tPT8WsL",
        "outputId": "36f306fe-15aa-4960-f517-480733cd2e22"
      },
      "execution_count": 5,
      "outputs": [
        {
          "output_type": "execute_result",
          "data": {
            "text/plain": [
              "'https://coinmarketcap.com/currencies/bitcoin'"
            ],
            "application/vnd.google.colaboratory.intrinsic+json": {
              "type": "string"
            }
          },
          "metadata": {},
          "execution_count": 5
        }
      ]
    },
    {
      "cell_type": "code",
      "source": [
        "def importar_base_bitcoin():\n",
        "  global df_bitcoin, precio_actual, tendencia, media_bitcoin, algoritmo_decision\n",
        "  df_bitcoin= pd.DataFrame(btc_usd.history(period=\"7d\", interval=\"5m\"))\n",
        "  df_bitcoin.to_json('df_bitcoin.json')\n",
        "\n",
        "\n",
        "\n",
        "\n",
        "\n"
      ],
      "metadata": {
        "id": "y9sLs6DWD0-O"
      },
      "execution_count": 34,
      "outputs": []
    },
    {
      "cell_type": "code",
      "source": [
        "#LLamar la funcion\n",
        "importar_base_bitcoin()\n"
      ],
      "metadata": {
        "id": "56bumev5r8y0"
      },
      "execution_count": 35,
      "outputs": []
    },
    {
      "cell_type": "code",
      "source": [
        "#Validación\n",
        "print(type(df_bitcoin))\n",
        "print(\"Cantidad de Filas y Columnas del DF df_bitcoin:\", df_bitcoin.shape)\n",
        "df_bitcoin.head()"
      ],
      "metadata": {
        "colab": {
          "base_uri": "https://localhost:8080/",
          "height": 273
        },
        "id": "UcLhY8P0sAs2",
        "outputId": "3d42e0d3-32f8-4fd1-b26c-d65d01ae4d31"
      },
      "execution_count": 37,
      "outputs": [
        {
          "output_type": "stream",
          "name": "stdout",
          "text": [
            "<class 'pandas.core.frame.DataFrame'>\n",
            "Cantidad de Filas y Columnas del DF df_bitcoin: (1951, 7)\n"
          ]
        },
        {
          "output_type": "execute_result",
          "data": {
            "text/plain": [
              "                                   Open          High           Low  \\\n",
              "Datetime                                                              \n",
              "2024-03-31 00:00:00+00:00  69647.742188  69661.390625  69647.742188   \n",
              "2024-03-31 00:05:00+00:00  69665.023438  69742.867188  69665.023438   \n",
              "2024-03-31 00:10:00+00:00  69721.281250  69738.117188  69721.281250   \n",
              "2024-03-31 00:15:00+00:00  69754.882812  69903.968750  69754.882812   \n",
              "2024-03-31 00:20:00+00:00  69872.640625  69928.828125  69867.148438   \n",
              "\n",
              "                                  Close    Volume  Dividends  Stock Splits  \n",
              "Datetime                                                                    \n",
              "2024-03-31 00:00:00+00:00  69656.429688         0        0.0           0.0  \n",
              "2024-03-31 00:05:00+00:00  69742.867188  23811072        0.0           0.0  \n",
              "2024-03-31 00:10:00+00:00  69728.140625         0        0.0           0.0  \n",
              "2024-03-31 00:15:00+00:00  69885.828125  43395072        0.0           0.0  \n",
              "2024-03-31 00:20:00+00:00  69923.289062  22921216        0.0           0.0  "
            ],
            "text/html": [
              "\n",
              "  <div id=\"df-7da79905-8441-4095-a93c-0386136f00d1\" class=\"colab-df-container\">\n",
              "    <div>\n",
              "<style scoped>\n",
              "    .dataframe tbody tr th:only-of-type {\n",
              "        vertical-align: middle;\n",
              "    }\n",
              "\n",
              "    .dataframe tbody tr th {\n",
              "        vertical-align: top;\n",
              "    }\n",
              "\n",
              "    .dataframe thead th {\n",
              "        text-align: right;\n",
              "    }\n",
              "</style>\n",
              "<table border=\"1\" class=\"dataframe\">\n",
              "  <thead>\n",
              "    <tr style=\"text-align: right;\">\n",
              "      <th></th>\n",
              "      <th>Open</th>\n",
              "      <th>High</th>\n",
              "      <th>Low</th>\n",
              "      <th>Close</th>\n",
              "      <th>Volume</th>\n",
              "      <th>Dividends</th>\n",
              "      <th>Stock Splits</th>\n",
              "    </tr>\n",
              "    <tr>\n",
              "      <th>Datetime</th>\n",
              "      <th></th>\n",
              "      <th></th>\n",
              "      <th></th>\n",
              "      <th></th>\n",
              "      <th></th>\n",
              "      <th></th>\n",
              "      <th></th>\n",
              "    </tr>\n",
              "  </thead>\n",
              "  <tbody>\n",
              "    <tr>\n",
              "      <th>2024-03-31 00:00:00+00:00</th>\n",
              "      <td>69647.742188</td>\n",
              "      <td>69661.390625</td>\n",
              "      <td>69647.742188</td>\n",
              "      <td>69656.429688</td>\n",
              "      <td>0</td>\n",
              "      <td>0.0</td>\n",
              "      <td>0.0</td>\n",
              "    </tr>\n",
              "    <tr>\n",
              "      <th>2024-03-31 00:05:00+00:00</th>\n",
              "      <td>69665.023438</td>\n",
              "      <td>69742.867188</td>\n",
              "      <td>69665.023438</td>\n",
              "      <td>69742.867188</td>\n",
              "      <td>23811072</td>\n",
              "      <td>0.0</td>\n",
              "      <td>0.0</td>\n",
              "    </tr>\n",
              "    <tr>\n",
              "      <th>2024-03-31 00:10:00+00:00</th>\n",
              "      <td>69721.281250</td>\n",
              "      <td>69738.117188</td>\n",
              "      <td>69721.281250</td>\n",
              "      <td>69728.140625</td>\n",
              "      <td>0</td>\n",
              "      <td>0.0</td>\n",
              "      <td>0.0</td>\n",
              "    </tr>\n",
              "    <tr>\n",
              "      <th>2024-03-31 00:15:00+00:00</th>\n",
              "      <td>69754.882812</td>\n",
              "      <td>69903.968750</td>\n",
              "      <td>69754.882812</td>\n",
              "      <td>69885.828125</td>\n",
              "      <td>43395072</td>\n",
              "      <td>0.0</td>\n",
              "      <td>0.0</td>\n",
              "    </tr>\n",
              "    <tr>\n",
              "      <th>2024-03-31 00:20:00+00:00</th>\n",
              "      <td>69872.640625</td>\n",
              "      <td>69928.828125</td>\n",
              "      <td>69867.148438</td>\n",
              "      <td>69923.289062</td>\n",
              "      <td>22921216</td>\n",
              "      <td>0.0</td>\n",
              "      <td>0.0</td>\n",
              "    </tr>\n",
              "  </tbody>\n",
              "</table>\n",
              "</div>\n",
              "    <div class=\"colab-df-buttons\">\n",
              "\n",
              "  <div class=\"colab-df-container\">\n",
              "    <button class=\"colab-df-convert\" onclick=\"convertToInteractive('df-7da79905-8441-4095-a93c-0386136f00d1')\"\n",
              "            title=\"Convert this dataframe to an interactive table.\"\n",
              "            style=\"display:none;\">\n",
              "\n",
              "  <svg xmlns=\"http://www.w3.org/2000/svg\" height=\"24px\" viewBox=\"0 -960 960 960\">\n",
              "    <path d=\"M120-120v-720h720v720H120Zm60-500h600v-160H180v160Zm220 220h160v-160H400v160Zm0 220h160v-160H400v160ZM180-400h160v-160H180v160Zm440 0h160v-160H620v160ZM180-180h160v-160H180v160Zm440 0h160v-160H620v160Z\"/>\n",
              "  </svg>\n",
              "    </button>\n",
              "\n",
              "  <style>\n",
              "    .colab-df-container {\n",
              "      display:flex;\n",
              "      gap: 12px;\n",
              "    }\n",
              "\n",
              "    .colab-df-convert {\n",
              "      background-color: #E8F0FE;\n",
              "      border: none;\n",
              "      border-radius: 50%;\n",
              "      cursor: pointer;\n",
              "      display: none;\n",
              "      fill: #1967D2;\n",
              "      height: 32px;\n",
              "      padding: 0 0 0 0;\n",
              "      width: 32px;\n",
              "    }\n",
              "\n",
              "    .colab-df-convert:hover {\n",
              "      background-color: #E2EBFA;\n",
              "      box-shadow: 0px 1px 2px rgba(60, 64, 67, 0.3), 0px 1px 3px 1px rgba(60, 64, 67, 0.15);\n",
              "      fill: #174EA6;\n",
              "    }\n",
              "\n",
              "    .colab-df-buttons div {\n",
              "      margin-bottom: 4px;\n",
              "    }\n",
              "\n",
              "    [theme=dark] .colab-df-convert {\n",
              "      background-color: #3B4455;\n",
              "      fill: #D2E3FC;\n",
              "    }\n",
              "\n",
              "    [theme=dark] .colab-df-convert:hover {\n",
              "      background-color: #434B5C;\n",
              "      box-shadow: 0px 1px 3px 1px rgba(0, 0, 0, 0.15);\n",
              "      filter: drop-shadow(0px 1px 2px rgba(0, 0, 0, 0.3));\n",
              "      fill: #FFFFFF;\n",
              "    }\n",
              "  </style>\n",
              "\n",
              "    <script>\n",
              "      const buttonEl =\n",
              "        document.querySelector('#df-7da79905-8441-4095-a93c-0386136f00d1 button.colab-df-convert');\n",
              "      buttonEl.style.display =\n",
              "        google.colab.kernel.accessAllowed ? 'block' : 'none';\n",
              "\n",
              "      async function convertToInteractive(key) {\n",
              "        const element = document.querySelector('#df-7da79905-8441-4095-a93c-0386136f00d1');\n",
              "        const dataTable =\n",
              "          await google.colab.kernel.invokeFunction('convertToInteractive',\n",
              "                                                    [key], {});\n",
              "        if (!dataTable) return;\n",
              "\n",
              "        const docLinkHtml = 'Like what you see? Visit the ' +\n",
              "          '<a target=\"_blank\" href=https://colab.research.google.com/notebooks/data_table.ipynb>data table notebook</a>'\n",
              "          + ' to learn more about interactive tables.';\n",
              "        element.innerHTML = '';\n",
              "        dataTable['output_type'] = 'display_data';\n",
              "        await google.colab.output.renderOutput(dataTable, element);\n",
              "        const docLink = document.createElement('div');\n",
              "        docLink.innerHTML = docLinkHtml;\n",
              "        element.appendChild(docLink);\n",
              "      }\n",
              "    </script>\n",
              "  </div>\n",
              "\n",
              "\n",
              "<div id=\"df-808ace8d-c3c5-4092-b04d-dc257e7c394c\">\n",
              "  <button class=\"colab-df-quickchart\" onclick=\"quickchart('df-808ace8d-c3c5-4092-b04d-dc257e7c394c')\"\n",
              "            title=\"Suggest charts\"\n",
              "            style=\"display:none;\">\n",
              "\n",
              "<svg xmlns=\"http://www.w3.org/2000/svg\" height=\"24px\"viewBox=\"0 0 24 24\"\n",
              "     width=\"24px\">\n",
              "    <g>\n",
              "        <path d=\"M19 3H5c-1.1 0-2 .9-2 2v14c0 1.1.9 2 2 2h14c1.1 0 2-.9 2-2V5c0-1.1-.9-2-2-2zM9 17H7v-7h2v7zm4 0h-2V7h2v10zm4 0h-2v-4h2v4z\"/>\n",
              "    </g>\n",
              "</svg>\n",
              "  </button>\n",
              "\n",
              "<style>\n",
              "  .colab-df-quickchart {\n",
              "      --bg-color: #E8F0FE;\n",
              "      --fill-color: #1967D2;\n",
              "      --hover-bg-color: #E2EBFA;\n",
              "      --hover-fill-color: #174EA6;\n",
              "      --disabled-fill-color: #AAA;\n",
              "      --disabled-bg-color: #DDD;\n",
              "  }\n",
              "\n",
              "  [theme=dark] .colab-df-quickchart {\n",
              "      --bg-color: #3B4455;\n",
              "      --fill-color: #D2E3FC;\n",
              "      --hover-bg-color: #434B5C;\n",
              "      --hover-fill-color: #FFFFFF;\n",
              "      --disabled-bg-color: #3B4455;\n",
              "      --disabled-fill-color: #666;\n",
              "  }\n",
              "\n",
              "  .colab-df-quickchart {\n",
              "    background-color: var(--bg-color);\n",
              "    border: none;\n",
              "    border-radius: 50%;\n",
              "    cursor: pointer;\n",
              "    display: none;\n",
              "    fill: var(--fill-color);\n",
              "    height: 32px;\n",
              "    padding: 0;\n",
              "    width: 32px;\n",
              "  }\n",
              "\n",
              "  .colab-df-quickchart:hover {\n",
              "    background-color: var(--hover-bg-color);\n",
              "    box-shadow: 0 1px 2px rgba(60, 64, 67, 0.3), 0 1px 3px 1px rgba(60, 64, 67, 0.15);\n",
              "    fill: var(--button-hover-fill-color);\n",
              "  }\n",
              "\n",
              "  .colab-df-quickchart-complete:disabled,\n",
              "  .colab-df-quickchart-complete:disabled:hover {\n",
              "    background-color: var(--disabled-bg-color);\n",
              "    fill: var(--disabled-fill-color);\n",
              "    box-shadow: none;\n",
              "  }\n",
              "\n",
              "  .colab-df-spinner {\n",
              "    border: 2px solid var(--fill-color);\n",
              "    border-color: transparent;\n",
              "    border-bottom-color: var(--fill-color);\n",
              "    animation:\n",
              "      spin 1s steps(1) infinite;\n",
              "  }\n",
              "\n",
              "  @keyframes spin {\n",
              "    0% {\n",
              "      border-color: transparent;\n",
              "      border-bottom-color: var(--fill-color);\n",
              "      border-left-color: var(--fill-color);\n",
              "    }\n",
              "    20% {\n",
              "      border-color: transparent;\n",
              "      border-left-color: var(--fill-color);\n",
              "      border-top-color: var(--fill-color);\n",
              "    }\n",
              "    30% {\n",
              "      border-color: transparent;\n",
              "      border-left-color: var(--fill-color);\n",
              "      border-top-color: var(--fill-color);\n",
              "      border-right-color: var(--fill-color);\n",
              "    }\n",
              "    40% {\n",
              "      border-color: transparent;\n",
              "      border-right-color: var(--fill-color);\n",
              "      border-top-color: var(--fill-color);\n",
              "    }\n",
              "    60% {\n",
              "      border-color: transparent;\n",
              "      border-right-color: var(--fill-color);\n",
              "    }\n",
              "    80% {\n",
              "      border-color: transparent;\n",
              "      border-right-color: var(--fill-color);\n",
              "      border-bottom-color: var(--fill-color);\n",
              "    }\n",
              "    90% {\n",
              "      border-color: transparent;\n",
              "      border-bottom-color: var(--fill-color);\n",
              "    }\n",
              "  }\n",
              "</style>\n",
              "\n",
              "  <script>\n",
              "    async function quickchart(key) {\n",
              "      const quickchartButtonEl =\n",
              "        document.querySelector('#' + key + ' button');\n",
              "      quickchartButtonEl.disabled = true;  // To prevent multiple clicks.\n",
              "      quickchartButtonEl.classList.add('colab-df-spinner');\n",
              "      try {\n",
              "        const charts = await google.colab.kernel.invokeFunction(\n",
              "            'suggestCharts', [key], {});\n",
              "      } catch (error) {\n",
              "        console.error('Error during call to suggestCharts:', error);\n",
              "      }\n",
              "      quickchartButtonEl.classList.remove('colab-df-spinner');\n",
              "      quickchartButtonEl.classList.add('colab-df-quickchart-complete');\n",
              "    }\n",
              "    (() => {\n",
              "      let quickchartButtonEl =\n",
              "        document.querySelector('#df-808ace8d-c3c5-4092-b04d-dc257e7c394c button');\n",
              "      quickchartButtonEl.style.display =\n",
              "        google.colab.kernel.accessAllowed ? 'block' : 'none';\n",
              "    })();\n",
              "  </script>\n",
              "</div>\n",
              "\n",
              "    </div>\n",
              "  </div>\n"
            ],
            "application/vnd.google.colaboratory.intrinsic+json": {
              "type": "dataframe",
              "variable_name": "df_bitcoin",
              "summary": "{\n  \"name\": \"df_bitcoin\",\n  \"rows\": 1951,\n  \"fields\": [\n    {\n      \"column\": \"Datetime\",\n      \"properties\": {\n        \"dtype\": \"date\",\n        \"min\": \"2024-03-31 00:00:00+00:00\",\n        \"max\": \"2024-04-06 18:30:00+00:00\",\n        \"num_unique_values\": 1951,\n        \"samples\": [\n          \"2024-04-05 14:35:00+00:00\",\n          \"2024-04-04 21:10:00+00:00\",\n          \"2024-04-06 14:45:00+00:00\"\n        ],\n        \"semantic_type\": \"\",\n        \"description\": \"\"\n      }\n    },\n    {\n      \"column\": \"Open\",\n      \"properties\": {\n        \"dtype\": \"number\",\n        \"std\": 1731.8405887073652,\n        \"min\": 64610.96875,\n        \"max\": 71323.328125,\n        \"num_unique_values\": 1945,\n        \"samples\": [\n          67775.1796875,\n          67922.5,\n          66477.4609375\n        ],\n        \"semantic_type\": \"\",\n        \"description\": \"\"\n      }\n    },\n    {\n      \"column\": \"High\",\n      \"properties\": {\n        \"dtype\": \"number\",\n        \"std\": 1723.5500135746397,\n        \"min\": 64835.15234375,\n        \"max\": 71354.8515625,\n        \"num_unique_values\": 1946,\n        \"samples\": [\n          67937.734375,\n          67958.703125,\n          66485.65625\n        ],\n        \"semantic_type\": \"\",\n        \"description\": \"\"\n      }\n    },\n    {\n      \"column\": \"Low\",\n      \"properties\": {\n        \"dtype\": \"number\",\n        \"std\": 1739.857404088347,\n        \"min\": 64583.06640625,\n        \"max\": 71268.2578125,\n        \"num_unique_values\": 1944,\n        \"samples\": [\n          67530.5234375,\n          67922.5,\n          67887.5\n        ],\n        \"semantic_type\": \"\",\n        \"description\": \"\"\n      }\n    },\n    {\n      \"column\": \"Close\",\n      \"properties\": {\n        \"dtype\": \"number\",\n        \"std\": 1731.5450442765762,\n        \"min\": 64610.3984375,\n        \"max\": 71354.8515625,\n        \"num_unique_values\": 1946,\n        \"samples\": [\n          67937.734375,\n          67899.9140625,\n          66436.921875\n        ],\n        \"semantic_type\": \"\",\n        \"description\": \"\"\n      }\n    },\n    {\n      \"column\": \"Volume\",\n      \"properties\": {\n        \"dtype\": \"number\",\n        \"std\": 69225806,\n        \"min\": 0,\n        \"max\": 1375313920,\n        \"num_unique_values\": 999,\n        \"samples\": [\n          120233984,\n          51873792,\n          18593792\n        ],\n        \"semantic_type\": \"\",\n        \"description\": \"\"\n      }\n    },\n    {\n      \"column\": \"Dividends\",\n      \"properties\": {\n        \"dtype\": \"number\",\n        \"std\": 0.0,\n        \"min\": 0.0,\n        \"max\": 0.0,\n        \"num_unique_values\": 1,\n        \"samples\": [\n          0.0\n        ],\n        \"semantic_type\": \"\",\n        \"description\": \"\"\n      }\n    },\n    {\n      \"column\": \"Stock Splits\",\n      \"properties\": {\n        \"dtype\": \"number\",\n        \"std\": 0.0,\n        \"min\": 0.0,\n        \"max\": 0.0,\n        \"num_unique_values\": 1,\n        \"samples\": [\n          0.0\n        ],\n        \"semantic_type\": \"\",\n        \"description\": \"\"\n      }\n    }\n  ]\n}"
            }
          },
          "metadata": {},
          "execution_count": 37
        }
      ]
    },
    {
      "cell_type": "code",
      "source": [
        "url = 'https://coinmarketcap.com/'\n",
        "\n",
        "# Realizar solicitud GET a la página web\n",
        "response = requests.get(url)\n",
        "\n",
        "# Comprobar si la solicitud fue exitosa\n",
        "response.status_code == 200"
      ],
      "metadata": {
        "colab": {
          "base_uri": "https://localhost:8080/"
        },
        "id": "BqSNiHhzAv_C",
        "outputId": "51cbf9f9-2352-487b-8083-b3099245a6b2"
      },
      "execution_count": 7,
      "outputs": [
        {
          "output_type": "execute_result",
          "data": {
            "text/plain": [
              "True"
            ]
          },
          "metadata": {},
          "execution_count": 7
        }
      ]
    },
    {
      "cell_type": "code",
      "source": [
        "\n",
        "def extraer_tendencias(url):\n",
        "#url = 'https://coinmarketcap.com/' favor digitar esta url cuando llame la funcion\n",
        "  global precio_actual, tendencia, media_bitcoin, algoritmo_decision, precio_bitcoin, precio_bitcoins, precio_bitcoin_2,cambio_1h,cambio_1h_dic\n",
        "\n",
        "  respuesta = requests.get(url)\n",
        "  s=BeautifulSoup(respuesta.content, \"lxml\") #leer la pagina y guardarlo la pagina en lxml\n",
        "\n",
        "\n",
        "#se toman del producto boton derecho en la pagina web e inspeccionar y copio\n",
        "  #como el primero es Bitcoin se hace solo con  find:\n",
        "  #<div class=\"sc-500f568e-0 ejtlWy\"><a href=\"/currencies/bitcoin/#markets\" class=\"cmc-link\"><span>$67,899.92</span></a></div>\n",
        "\n",
        "  precio_bitcoins= s.find('div', {'class': \"sc-500f568e-0 ejtlWy\"})\n",
        "  precio_bitcoin_2 =precio_bitcoins.find('span')\n",
        "  for precio_bitcoins in precio_bitcoins:\n",
        "    precio_actual_texto = precio_bitcoin_2.get_text().strip().replace(\"<span>\",\"\").replace(\"</span>\",\"\").replace(\"$\",\"\").replace(\",\",\"\")\n",
        "    precio_actual = float( precio_actual_texto)#Convertimos a float.\n",
        "\n",
        "#se toman del producto boton derecho en la pagina web e inspeccionar y copio estan 2 clases asi:\n",
        "  #<span class=\"sc-6a54057-0 YXxPZ\"><span class=\"icon-Caret-up\" style=\"width:12px;height:18px;display:inline-block\"></span>0.19%</span>\n",
        "  #<span class=\"sc-6a54057-0 iEhQde\"><span class=\"icon-Caret-down\" style=\"width: 12px; height: 18px; display: inline-block;\"></span>0.22%</span>\n",
        "#Formula para dos  clases, como el primero es Bitcoin se hace solo con  find:\n",
        "  #respuesta = s.findAll('span', {'class':['clase1','clase2','clase3']})\n",
        "\n",
        "  cambio_1h = s.find('span', {'class':['sc-6a54057-0 YXxPZ','sc-6a54057-0 iEhQde']})\n",
        "  cambio_1h_dic =  cambio_1h.attrs #Convertimos a diccionario\n",
        "\n",
        "  for cambio in cambio_1h :\n",
        "    texto = cambio.get_text().strip()\n",
        "\n",
        "\n",
        "#Determinemos la tendencia\n",
        "  if 'iEhQde' in cambio_1h_dic.get('class', []):\n",
        "    tendencia = \"Baja\"\n",
        "  elif 'YXxPZ' in cambio_1h_dic.get('class', []):\n",
        "    tendencia = \"Alta\"\n",
        "  else:\n",
        "    tendencia = \"Desconocida\"\n",
        "\n",
        "\n",
        "\n",
        "  print('La variacion de ultima hora:',texto)\n",
        "  print('Tendencia', tendencia)\n",
        "  print('El Precio actual de Bitcoin (USD):',precio_actual )\n",
        "  #Validaciones\n",
        "  print(cambio_1h)\n",
        "  print(cambio)\n",
        "\n"
      ],
      "metadata": {
        "id": "i23sXa7gprDJ"
      },
      "execution_count": 8,
      "outputs": []
    },
    {
      "cell_type": "code",
      "source": [
        "#Llamar la función\n",
        "extraer_tendencias('https://coinmarketcap.com/')"
      ],
      "metadata": {
        "colab": {
          "base_uri": "https://localhost:8080/"
        },
        "id": "TEV3PdFootxE",
        "outputId": "1e0925dd-f2a9-446a-ad57-64953a85156c"
      },
      "execution_count": 33,
      "outputs": [
        {
          "output_type": "stream",
          "name": "stdout",
          "text": [
            "La variacion de ultima hora: 0.13%\n",
            "Tendencia Alta\n",
            "El Precio actual de Bitcoin (USD): 68292.87\n",
            "<span class=\"sc-6a54057-0 YXxPZ\"><span class=\"icon-Caret-up\" style=\"width:12px;height:18px;display:inline-block\"></span>0.13%</span>\n",
            "0.13%\n"
          ]
        }
      ]
    },
    {
      "cell_type": "markdown",
      "source": [
        "## 3. Limpieza de Datos\n",
        "\n",
        "\n",
        "\n",
        "3. Limpieza de datos: Una vez que tengas los datos históricos deberás cargarlos en un DataFrame de Pandas para poder manipularlos y analizarlos, deberás identificar y eliminar los outliers, además de tratar cualquier valor nulo o duplicados en la base. Finalmente, con la base limpia, calcula el precio promedio del Bitcoin."
      ],
      "metadata": {
        "id": "oJUK8GI8yefx"
      }
    },
    {
      "cell_type": "code",
      "source": [
        "\n",
        "#crea una copia de la base df_bitcoin para que realices la limpieza en esta nueva base(df_bitcoin_limpio), sin modificar la base original,\n",
        "print(type(df_bitcoin))\n",
        "print(df_bitcoin.shape)\n",
        "df_bitcoin_limpio = df_bitcoin.copy()\n",
        "print(df_bitcoin_limpio.shape)\n",
        "print(df_bitcoin_limpio.info())\n",
        "df_bitcoin_limpio.head()"
      ],
      "metadata": {
        "colab": {
          "base_uri": "https://localhost:8080/",
          "height": 559
        },
        "id": "uEbscEf57XSJ",
        "outputId": "c4d76eb5-1a81-4d1c-c691-f8bab10cfa2d"
      },
      "execution_count": 10,
      "outputs": [
        {
          "output_type": "stream",
          "name": "stdout",
          "text": [
            "<class 'pandas.core.frame.DataFrame'>\n",
            "(1945, 7)\n",
            "(1945, 7)\n",
            "<class 'pandas.core.frame.DataFrame'>\n",
            "DatetimeIndex: 1945 entries, 2024-03-31 00:00:00+00:00 to 2024-04-06 18:00:00+00:00\n",
            "Data columns (total 7 columns):\n",
            " #   Column        Non-Null Count  Dtype  \n",
            "---  ------        --------------  -----  \n",
            " 0   Open          1945 non-null   float64\n",
            " 1   High          1945 non-null   float64\n",
            " 2   Low           1945 non-null   float64\n",
            " 3   Close         1945 non-null   float64\n",
            " 4   Volume        1945 non-null   int64  \n",
            " 5   Dividends     1945 non-null   float64\n",
            " 6   Stock Splits  1945 non-null   float64\n",
            "dtypes: float64(6), int64(1)\n",
            "memory usage: 186.1 KB\n",
            "None\n"
          ]
        },
        {
          "output_type": "execute_result",
          "data": {
            "text/plain": [
              "                                   Open          High           Low  \\\n",
              "Datetime                                                              \n",
              "2024-03-31 00:00:00+00:00  69647.742188  69661.390625  69647.742188   \n",
              "2024-03-31 00:05:00+00:00  69665.023438  69742.867188  69665.023438   \n",
              "2024-03-31 00:10:00+00:00  69721.281250  69738.117188  69721.281250   \n",
              "2024-03-31 00:15:00+00:00  69754.882812  69903.968750  69754.882812   \n",
              "2024-03-31 00:20:00+00:00  69872.640625  69928.828125  69867.148438   \n",
              "\n",
              "                                  Close    Volume  Dividends  Stock Splits  \n",
              "Datetime                                                                    \n",
              "2024-03-31 00:00:00+00:00  69656.429688         0        0.0           0.0  \n",
              "2024-03-31 00:05:00+00:00  69742.867188  23811072        0.0           0.0  \n",
              "2024-03-31 00:10:00+00:00  69728.140625         0        0.0           0.0  \n",
              "2024-03-31 00:15:00+00:00  69885.828125  43395072        0.0           0.0  \n",
              "2024-03-31 00:20:00+00:00  69923.289062  22921216        0.0           0.0  "
            ],
            "text/html": [
              "\n",
              "  <div id=\"df-40eb8a9a-d320-48b5-a372-af05f1e75044\" class=\"colab-df-container\">\n",
              "    <div>\n",
              "<style scoped>\n",
              "    .dataframe tbody tr th:only-of-type {\n",
              "        vertical-align: middle;\n",
              "    }\n",
              "\n",
              "    .dataframe tbody tr th {\n",
              "        vertical-align: top;\n",
              "    }\n",
              "\n",
              "    .dataframe thead th {\n",
              "        text-align: right;\n",
              "    }\n",
              "</style>\n",
              "<table border=\"1\" class=\"dataframe\">\n",
              "  <thead>\n",
              "    <tr style=\"text-align: right;\">\n",
              "      <th></th>\n",
              "      <th>Open</th>\n",
              "      <th>High</th>\n",
              "      <th>Low</th>\n",
              "      <th>Close</th>\n",
              "      <th>Volume</th>\n",
              "      <th>Dividends</th>\n",
              "      <th>Stock Splits</th>\n",
              "    </tr>\n",
              "    <tr>\n",
              "      <th>Datetime</th>\n",
              "      <th></th>\n",
              "      <th></th>\n",
              "      <th></th>\n",
              "      <th></th>\n",
              "      <th></th>\n",
              "      <th></th>\n",
              "      <th></th>\n",
              "    </tr>\n",
              "  </thead>\n",
              "  <tbody>\n",
              "    <tr>\n",
              "      <th>2024-03-31 00:00:00+00:00</th>\n",
              "      <td>69647.742188</td>\n",
              "      <td>69661.390625</td>\n",
              "      <td>69647.742188</td>\n",
              "      <td>69656.429688</td>\n",
              "      <td>0</td>\n",
              "      <td>0.0</td>\n",
              "      <td>0.0</td>\n",
              "    </tr>\n",
              "    <tr>\n",
              "      <th>2024-03-31 00:05:00+00:00</th>\n",
              "      <td>69665.023438</td>\n",
              "      <td>69742.867188</td>\n",
              "      <td>69665.023438</td>\n",
              "      <td>69742.867188</td>\n",
              "      <td>23811072</td>\n",
              "      <td>0.0</td>\n",
              "      <td>0.0</td>\n",
              "    </tr>\n",
              "    <tr>\n",
              "      <th>2024-03-31 00:10:00+00:00</th>\n",
              "      <td>69721.281250</td>\n",
              "      <td>69738.117188</td>\n",
              "      <td>69721.281250</td>\n",
              "      <td>69728.140625</td>\n",
              "      <td>0</td>\n",
              "      <td>0.0</td>\n",
              "      <td>0.0</td>\n",
              "    </tr>\n",
              "    <tr>\n",
              "      <th>2024-03-31 00:15:00+00:00</th>\n",
              "      <td>69754.882812</td>\n",
              "      <td>69903.968750</td>\n",
              "      <td>69754.882812</td>\n",
              "      <td>69885.828125</td>\n",
              "      <td>43395072</td>\n",
              "      <td>0.0</td>\n",
              "      <td>0.0</td>\n",
              "    </tr>\n",
              "    <tr>\n",
              "      <th>2024-03-31 00:20:00+00:00</th>\n",
              "      <td>69872.640625</td>\n",
              "      <td>69928.828125</td>\n",
              "      <td>69867.148438</td>\n",
              "      <td>69923.289062</td>\n",
              "      <td>22921216</td>\n",
              "      <td>0.0</td>\n",
              "      <td>0.0</td>\n",
              "    </tr>\n",
              "  </tbody>\n",
              "</table>\n",
              "</div>\n",
              "    <div class=\"colab-df-buttons\">\n",
              "\n",
              "  <div class=\"colab-df-container\">\n",
              "    <button class=\"colab-df-convert\" onclick=\"convertToInteractive('df-40eb8a9a-d320-48b5-a372-af05f1e75044')\"\n",
              "            title=\"Convert this dataframe to an interactive table.\"\n",
              "            style=\"display:none;\">\n",
              "\n",
              "  <svg xmlns=\"http://www.w3.org/2000/svg\" height=\"24px\" viewBox=\"0 -960 960 960\">\n",
              "    <path d=\"M120-120v-720h720v720H120Zm60-500h600v-160H180v160Zm220 220h160v-160H400v160Zm0 220h160v-160H400v160ZM180-400h160v-160H180v160Zm440 0h160v-160H620v160ZM180-180h160v-160H180v160Zm440 0h160v-160H620v160Z\"/>\n",
              "  </svg>\n",
              "    </button>\n",
              "\n",
              "  <style>\n",
              "    .colab-df-container {\n",
              "      display:flex;\n",
              "      gap: 12px;\n",
              "    }\n",
              "\n",
              "    .colab-df-convert {\n",
              "      background-color: #E8F0FE;\n",
              "      border: none;\n",
              "      border-radius: 50%;\n",
              "      cursor: pointer;\n",
              "      display: none;\n",
              "      fill: #1967D2;\n",
              "      height: 32px;\n",
              "      padding: 0 0 0 0;\n",
              "      width: 32px;\n",
              "    }\n",
              "\n",
              "    .colab-df-convert:hover {\n",
              "      background-color: #E2EBFA;\n",
              "      box-shadow: 0px 1px 2px rgba(60, 64, 67, 0.3), 0px 1px 3px 1px rgba(60, 64, 67, 0.15);\n",
              "      fill: #174EA6;\n",
              "    }\n",
              "\n",
              "    .colab-df-buttons div {\n",
              "      margin-bottom: 4px;\n",
              "    }\n",
              "\n",
              "    [theme=dark] .colab-df-convert {\n",
              "      background-color: #3B4455;\n",
              "      fill: #D2E3FC;\n",
              "    }\n",
              "\n",
              "    [theme=dark] .colab-df-convert:hover {\n",
              "      background-color: #434B5C;\n",
              "      box-shadow: 0px 1px 3px 1px rgba(0, 0, 0, 0.15);\n",
              "      filter: drop-shadow(0px 1px 2px rgba(0, 0, 0, 0.3));\n",
              "      fill: #FFFFFF;\n",
              "    }\n",
              "  </style>\n",
              "\n",
              "    <script>\n",
              "      const buttonEl =\n",
              "        document.querySelector('#df-40eb8a9a-d320-48b5-a372-af05f1e75044 button.colab-df-convert');\n",
              "      buttonEl.style.display =\n",
              "        google.colab.kernel.accessAllowed ? 'block' : 'none';\n",
              "\n",
              "      async function convertToInteractive(key) {\n",
              "        const element = document.querySelector('#df-40eb8a9a-d320-48b5-a372-af05f1e75044');\n",
              "        const dataTable =\n",
              "          await google.colab.kernel.invokeFunction('convertToInteractive',\n",
              "                                                    [key], {});\n",
              "        if (!dataTable) return;\n",
              "\n",
              "        const docLinkHtml = 'Like what you see? Visit the ' +\n",
              "          '<a target=\"_blank\" href=https://colab.research.google.com/notebooks/data_table.ipynb>data table notebook</a>'\n",
              "          + ' to learn more about interactive tables.';\n",
              "        element.innerHTML = '';\n",
              "        dataTable['output_type'] = 'display_data';\n",
              "        await google.colab.output.renderOutput(dataTable, element);\n",
              "        const docLink = document.createElement('div');\n",
              "        docLink.innerHTML = docLinkHtml;\n",
              "        element.appendChild(docLink);\n",
              "      }\n",
              "    </script>\n",
              "  </div>\n",
              "\n",
              "\n",
              "<div id=\"df-9f563691-8107-41d5-869d-f4f198138198\">\n",
              "  <button class=\"colab-df-quickchart\" onclick=\"quickchart('df-9f563691-8107-41d5-869d-f4f198138198')\"\n",
              "            title=\"Suggest charts\"\n",
              "            style=\"display:none;\">\n",
              "\n",
              "<svg xmlns=\"http://www.w3.org/2000/svg\" height=\"24px\"viewBox=\"0 0 24 24\"\n",
              "     width=\"24px\">\n",
              "    <g>\n",
              "        <path d=\"M19 3H5c-1.1 0-2 .9-2 2v14c0 1.1.9 2 2 2h14c1.1 0 2-.9 2-2V5c0-1.1-.9-2-2-2zM9 17H7v-7h2v7zm4 0h-2V7h2v10zm4 0h-2v-4h2v4z\"/>\n",
              "    </g>\n",
              "</svg>\n",
              "  </button>\n",
              "\n",
              "<style>\n",
              "  .colab-df-quickchart {\n",
              "      --bg-color: #E8F0FE;\n",
              "      --fill-color: #1967D2;\n",
              "      --hover-bg-color: #E2EBFA;\n",
              "      --hover-fill-color: #174EA6;\n",
              "      --disabled-fill-color: #AAA;\n",
              "      --disabled-bg-color: #DDD;\n",
              "  }\n",
              "\n",
              "  [theme=dark] .colab-df-quickchart {\n",
              "      --bg-color: #3B4455;\n",
              "      --fill-color: #D2E3FC;\n",
              "      --hover-bg-color: #434B5C;\n",
              "      --hover-fill-color: #FFFFFF;\n",
              "      --disabled-bg-color: #3B4455;\n",
              "      --disabled-fill-color: #666;\n",
              "  }\n",
              "\n",
              "  .colab-df-quickchart {\n",
              "    background-color: var(--bg-color);\n",
              "    border: none;\n",
              "    border-radius: 50%;\n",
              "    cursor: pointer;\n",
              "    display: none;\n",
              "    fill: var(--fill-color);\n",
              "    height: 32px;\n",
              "    padding: 0;\n",
              "    width: 32px;\n",
              "  }\n",
              "\n",
              "  .colab-df-quickchart:hover {\n",
              "    background-color: var(--hover-bg-color);\n",
              "    box-shadow: 0 1px 2px rgba(60, 64, 67, 0.3), 0 1px 3px 1px rgba(60, 64, 67, 0.15);\n",
              "    fill: var(--button-hover-fill-color);\n",
              "  }\n",
              "\n",
              "  .colab-df-quickchart-complete:disabled,\n",
              "  .colab-df-quickchart-complete:disabled:hover {\n",
              "    background-color: var(--disabled-bg-color);\n",
              "    fill: var(--disabled-fill-color);\n",
              "    box-shadow: none;\n",
              "  }\n",
              "\n",
              "  .colab-df-spinner {\n",
              "    border: 2px solid var(--fill-color);\n",
              "    border-color: transparent;\n",
              "    border-bottom-color: var(--fill-color);\n",
              "    animation:\n",
              "      spin 1s steps(1) infinite;\n",
              "  }\n",
              "\n",
              "  @keyframes spin {\n",
              "    0% {\n",
              "      border-color: transparent;\n",
              "      border-bottom-color: var(--fill-color);\n",
              "      border-left-color: var(--fill-color);\n",
              "    }\n",
              "    20% {\n",
              "      border-color: transparent;\n",
              "      border-left-color: var(--fill-color);\n",
              "      border-top-color: var(--fill-color);\n",
              "    }\n",
              "    30% {\n",
              "      border-color: transparent;\n",
              "      border-left-color: var(--fill-color);\n",
              "      border-top-color: var(--fill-color);\n",
              "      border-right-color: var(--fill-color);\n",
              "    }\n",
              "    40% {\n",
              "      border-color: transparent;\n",
              "      border-right-color: var(--fill-color);\n",
              "      border-top-color: var(--fill-color);\n",
              "    }\n",
              "    60% {\n",
              "      border-color: transparent;\n",
              "      border-right-color: var(--fill-color);\n",
              "    }\n",
              "    80% {\n",
              "      border-color: transparent;\n",
              "      border-right-color: var(--fill-color);\n",
              "      border-bottom-color: var(--fill-color);\n",
              "    }\n",
              "    90% {\n",
              "      border-color: transparent;\n",
              "      border-bottom-color: var(--fill-color);\n",
              "    }\n",
              "  }\n",
              "</style>\n",
              "\n",
              "  <script>\n",
              "    async function quickchart(key) {\n",
              "      const quickchartButtonEl =\n",
              "        document.querySelector('#' + key + ' button');\n",
              "      quickchartButtonEl.disabled = true;  // To prevent multiple clicks.\n",
              "      quickchartButtonEl.classList.add('colab-df-spinner');\n",
              "      try {\n",
              "        const charts = await google.colab.kernel.invokeFunction(\n",
              "            'suggestCharts', [key], {});\n",
              "      } catch (error) {\n",
              "        console.error('Error during call to suggestCharts:', error);\n",
              "      }\n",
              "      quickchartButtonEl.classList.remove('colab-df-spinner');\n",
              "      quickchartButtonEl.classList.add('colab-df-quickchart-complete');\n",
              "    }\n",
              "    (() => {\n",
              "      let quickchartButtonEl =\n",
              "        document.querySelector('#df-9f563691-8107-41d5-869d-f4f198138198 button');\n",
              "      quickchartButtonEl.style.display =\n",
              "        google.colab.kernel.accessAllowed ? 'block' : 'none';\n",
              "    })();\n",
              "  </script>\n",
              "</div>\n",
              "\n",
              "    </div>\n",
              "  </div>\n"
            ],
            "application/vnd.google.colaboratory.intrinsic+json": {
              "type": "dataframe",
              "variable_name": "df_bitcoin_limpio",
              "summary": "{\n  \"name\": \"df_bitcoin_limpio\",\n  \"rows\": 1945,\n  \"fields\": [\n    {\n      \"column\": \"Datetime\",\n      \"properties\": {\n        \"dtype\": \"date\",\n        \"min\": \"2024-03-31 00:00:00+00:00\",\n        \"max\": \"2024-04-06 18:00:00+00:00\",\n        \"num_unique_values\": 1945,\n        \"samples\": [\n          \"2024-04-05 14:15:00+00:00\",\n          \"2024-04-04 20:55:00+00:00\",\n          \"2024-04-03 09:10:00+00:00\"\n        ],\n        \"semantic_type\": \"\",\n        \"description\": \"\"\n      }\n    },\n    {\n      \"column\": \"Open\",\n      \"properties\": {\n        \"dtype\": \"number\",\n        \"std\": 1734.334259798185,\n        \"min\": 64610.96875,\n        \"max\": 71323.328125,\n        \"num_unique_values\": 1939,\n        \"samples\": [\n          67407.0546875,\n          66271.09375,\n          70452.046875\n        ],\n        \"semantic_type\": \"\",\n        \"description\": \"\"\n      }\n    },\n    {\n      \"column\": \"High\",\n      \"properties\": {\n        \"dtype\": \"number\",\n        \"std\": 1726.049307960115,\n        \"min\": 64835.15234375,\n        \"max\": 71354.8515625,\n        \"num_unique_values\": 1940,\n        \"samples\": [\n          67524.8203125,\n          68274.21875,\n          70452.046875\n        ],\n        \"semantic_type\": \"\",\n        \"description\": \"\"\n      }\n    },\n    {\n      \"column\": \"Low\",\n      \"properties\": {\n        \"dtype\": \"number\",\n        \"std\": 1742.345432509607,\n        \"min\": 64583.06640625,\n        \"max\": 71268.2578125,\n        \"num_unique_values\": 1938,\n        \"samples\": [\n          69139.1796875,\n          65879.734375,\n          66125.6328125\n        ],\n        \"semantic_type\": \"\",\n        \"description\": \"\"\n      }\n    },\n    {\n      \"column\": \"Close\",\n      \"properties\": {\n        \"dtype\": \"number\",\n        \"std\": 1734.0495002391265,\n        \"min\": 64610.3984375,\n        \"max\": 71354.8515625,\n        \"num_unique_values\": 1940,\n        \"samples\": [\n          67440.1796875,\n          68232.6640625,\n          70345.4375\n        ],\n        \"semantic_type\": \"\",\n        \"description\": \"\"\n      }\n    },\n    {\n      \"column\": \"Volume\",\n      \"properties\": {\n        \"dtype\": \"number\",\n        \"std\": 69304954,\n        \"min\": 0,\n        \"max\": 1375313920,\n        \"num_unique_values\": 1018,\n        \"samples\": [\n          78241792,\n          183848960,\n          40087552\n        ],\n        \"semantic_type\": \"\",\n        \"description\": \"\"\n      }\n    },\n    {\n      \"column\": \"Dividends\",\n      \"properties\": {\n        \"dtype\": \"number\",\n        \"std\": 0.0,\n        \"min\": 0.0,\n        \"max\": 0.0,\n        \"num_unique_values\": 1,\n        \"samples\": [\n          0.0\n        ],\n        \"semantic_type\": \"\",\n        \"description\": \"\"\n      }\n    },\n    {\n      \"column\": \"Stock Splits\",\n      \"properties\": {\n        \"dtype\": \"number\",\n        \"std\": 0.0,\n        \"min\": 0.0,\n        \"max\": 0.0,\n        \"num_unique_values\": 1,\n        \"samples\": [\n          0.0\n        ],\n        \"semantic_type\": \"\",\n        \"description\": \"\"\n      }\n    }\n  ]\n}"
            }
          },
          "metadata": {},
          "execution_count": 10
        }
      ]
    },
    {
      "cell_type": "code",
      "source": [
        "#Para la limpieza utilizaremos los atributos Datetime, Close y Volume.\n",
        "def limpieza_datos():\n",
        "\n",
        "  global duplicados_ind, sin_duplicados_ind, df_sin_nulos_close, media_bitcoin, df_remover,df_filtrado\n",
        "  #identifica duplicados en el índice y trátalos para quedarte con sólo índices únicos.\n",
        "  duplicados_ind = df_bitcoin_limpio.index.duplicated(keep='first')\n",
        "\n",
        "    # Tratar los duplicados en el índice eliminando las filas duplicadas\n",
        "  sin_duplicados_ind = df_bitcoin_limpio[~duplicados_ind]\n",
        "\n",
        "  #Luego busca por valores nulos en la columna Close y trátalos.\n",
        "  if 'Close' in sin_duplicados_ind.columns:\n",
        "    sin_nulos_close  = sin_duplicados_ind['Close'].isnull().sum()\n",
        "    print(f\"Numero de valores nulos en la columna 'Close' : {sin_nulos_close}\")\n",
        "    if sin_nulos_close == 0:\n",
        "      print(\"No hacer tratamiento de nulos\")\n",
        "    else:\n",
        "      df_sin_nulos_close = sin_duplicados_ind.dropna(subset=['Close'])\n",
        "      print(\"\\nDataFrame después de tratar los valores nulos:\")\n",
        "  else:\n",
        "    print(\"En la columna  'Close' no se encontraron  nulos in DF\")\n",
        "\n",
        "  df_sin_nulos_close = sin_duplicados_ind.dropna(subset=['Close'])\n",
        "\n",
        "  #Verifica que todos los registros de la base tengan un Volume de transacción mayor a 0, caso contrário, elimínalos.\n",
        "  df_remover = df_sin_nulos_close.query(\"Volume == 0\").index\n",
        "  print(\"Datos a remover:\", df_remover.shape)\n",
        "\n",
        "  df_sin_nulos_close.drop(df_remover, axis=0,inplace=True)\n",
        "  print(\"Datos despues de quitar los ceros en volumen:\" ,df_sin_nulos_close.shape)\n",
        "\n",
        "  #Deberás identificar y eliminar los outliers en el precio del Bitcoin, columna Close, utiliza un gráfico de boxplot para identificarlos.\n",
        "  # Crear un gráfico de boxplot para identificar outliers\n",
        "  plt.figure(figsize=(10, 6))\n",
        "  df_sin_nulos_close.boxplot(column=['Close'])\n",
        "  plt.title('Boxplot de Precio del Bitcoin (Close)')\n",
        "  plt.ylabel('Precio (USD)')\n",
        "  plt.grid(False)\n",
        "  plt.show()\n",
        "\n",
        "  # Identificar los outliers\n",
        "  Q1 = df_sin_nulos_close['Close'].quantile(0.25)\n",
        "  Q3 = df_sin_nulos_close['Close'].quantile(0.75)\n",
        "  IQR = Q3 - Q1\n",
        "\n",
        "  outliers = (df_sin_nulos_close['Close'] < (Q1 - 1.5 * IQR)) | (df_sin_nulos_close['Close'] > (Q3 + 1.5 * IQR))\n",
        "\n",
        "    # Eliminar los outliers\n",
        "  df_sin_outliers = df_sin_nulos_close[~outliers]\n",
        "  print(\"Total del DF sin Outliers:\" , df_sin_outliers.shape)\n",
        "  print(\"Info del DF sin Outliers:\" ,df_sin_outliers.info())\n",
        "\n",
        "  #Filtra o selecciona únicamente los registros cuyo precio(Close) se encuentren entre el 1er cuartil(Q1) y el 3er cuartil(Q3) del boxplot.\n",
        "    #df_sin_outliers\n",
        "\n",
        "  Q1 = df_sin_outliers['Close'].quantile(0.25)\n",
        "  Q3 = df_sin_outliers['Close'].quantile(0.75)\n",
        "\n",
        "  # Filtrar los registros cuyo precio se encuentra entre Q1 y Q3\n",
        "  df_filtrado = df_sin_outliers[df_sin_outliers['Close'].between(Q1, Q3)]\n",
        "\n",
        "    # Mostrar el DataFrame filtrado\n",
        "  print(\"Registros cuyo precio se encuentra entre Q1 y Q3:\")\n",
        "  print(\"Total del DF sin Outliers 1 y 3 Q:\" , df_filtrado.shape)\n",
        "  print(\"Info del DF sin Outliers 1 y 3 Q:\" ,df_filtrado.info())\n",
        "\n",
        "  #Finalmente, calcula el precio promedio(Close) de esta selección y guárdala en la variable media_bitcoin.\n",
        "  media_bitcoin = df_filtrado['Close'].mean()\n",
        "\n",
        "  df_filtrado\n",
        "\n"
      ],
      "metadata": {
        "id": "TVetvmDw71va"
      },
      "execution_count": 17,
      "outputs": []
    },
    {
      "cell_type": "code",
      "source": [
        "#Llamando la funcion creada\n",
        "limpieza_datos()"
      ],
      "metadata": {
        "colab": {
          "base_uri": "https://localhost:8080/",
          "height": 1000
        },
        "id": "ZnBh9QaQnX--",
        "outputId": "f86128c5-50a6-4bc2-c680-1c115a051ac6"
      },
      "execution_count": 31,
      "outputs": [
        {
          "output_type": "stream",
          "name": "stdout",
          "text": [
            "Numero de valores nulos en la columna 'Close' : 0\n",
            "No hacer tratamiento de nulos\n",
            "Datos a remover: (920,)\n",
            "Datos despues de quitar los ceros en volumen: (1025, 7)\n"
          ]
        },
        {
          "output_type": "display_data",
          "data": {
            "text/plain": [
              "<Figure size 1000x600 with 1 Axes>"
            ],
            "image/png": "[encoded data removed]"
          },
          "metadata": {}
        },
        {
          "output_type": "stream",
          "name": "stdout",
          "text": [
            "Total del DF sin Outliers: (1025, 7)\n",
            "<class 'pandas.core.frame.DataFrame'>\n",
            "DatetimeIndex: 1025 entries, 2024-03-31 00:05:00+00:00 to 2024-04-06 18:00:00+00:00\n",
            "Data columns (total 7 columns):\n",
            " #   Column        Non-Null Count  Dtype  \n",
            "---  ------        --------------  -----  \n",
            " 0   Open          1025 non-null   float64\n",
            " 1   High          1025 non-null   float64\n",
            " 2   Low           1025 non-null   float64\n",
            " 3   Close         1025 non-null   float64\n",
            " 4   Volume        1025 non-null   int64  \n",
            " 5   Dividends     1025 non-null   float64\n",
            " 6   Stock Splits  1025 non-null   float64\n",
            "dtypes: float64(6), int64(1)\n",
            "memory usage: 64.1 KB\n",
            "Info del DF sin Outliers: None\n",
            "Registros cuyo precio se encuentra entre Q1 y Q3:\n",
            "Total del DF sin Outliers 1 y 3 Q: (513, 7)\n",
            "<class 'pandas.core.frame.DataFrame'>\n",
            "DatetimeIndex: 513 entries, 2024-03-31 00:05:00+00:00 to 2024-04-06 18:00:00+00:00\n",
            "Data columns (total 7 columns):\n",
            " #   Column        Non-Null Count  Dtype  \n",
            "---  ------        --------------  -----  \n",
            " 0   Open          513 non-null    float64\n",
            " 1   High          513 non-null    float64\n",
            " 2   Low           513 non-null    float64\n",
            " 3   Close         513 non-null    float64\n",
            " 4   Volume        513 non-null    int64  \n",
            " 5   Dividends     513 non-null    float64\n",
            " 6   Stock Splits  513 non-null    float64\n",
            "dtypes: float64(6), int64(1)\n",
            "memory usage: 32.1 KB\n",
            "Info del DF sin Outliers 1 y 3 Q: None\n"
          ]
        }
      ]
    },
    {
      "cell_type": "markdown",
      "source": [
        "## 4. Toma de decisiones\n",
        "\n",
        "\n",
        "4. Tomar decisiones: Una vez que tengas el precio promedio, compáralo con el precio actual y tendencia del Bitcoin, que previamente obtuviste con Web Scraping. Si el precio actual es mayor/igual que la media y la tendencia es de baja, entonces se debe vender, pero si el precio actual es menor que la media y la tendencia es de alta, entonces se debe comprar."
      ],
      "metadata": {
        "id": "bKQbC9Rnyz0w"
      }
    },
    {
      "cell_type": "code",
      "source": [
        "def tomar_decisiones():\n",
        "\n",
        "  global algoritmo_decision, precio_actual, media_bitcoin, tendencia, resultado\n",
        "\n",
        "\n",
        "  if precio_actual >= media_bitcoin and tendencia == \"Baja\":\n",
        "    resultado = \"Vender\"\n",
        "  elif precio_actual <= media_bitcoin and tendencia == \"Alta\":\n",
        "    resultado = \"Comprar\"\n",
        "  else:\n",
        "    resultado = \"Esperar\"\n",
        "  #print(\"La decision es\", resultado)\n",
        "  return resultado\n",
        "\n",
        "algoritmo_decision=tomar_decisiones()\n"
      ],
      "metadata": {
        "id": "fY4rQ4GMktza"
      },
      "execution_count": 32,
      "outputs": []
    },
    {
      "cell_type": "code",
      "source": [
        "#Validacion\n",
        "\n",
        "print('Precio Promedio Bitcoin:',media_bitcoin)\n",
        "print('Precio Actual Bitcoin:',precio_actual)\n",
        "print('Tendencia:',tendencia)\n",
        "print('Decisión del algoritmo:',algoritmo_decision)\n"
      ],
      "metadata": {
        "colab": {
          "base_uri": "https://localhost:8080/"
        },
        "id": "LyExfMQ1rcfb",
        "outputId": "57195dc7-273e-40d7-f739-fd358f808d13"
      },
      "execution_count": 29,
      "outputs": [
        {
          "output_type": "stream",
          "name": "stdout",
          "text": [
            "Precio Promedio Bitcoin: 68127.99567495126\n",
            "Precio Actual Bitcoin: 68294.97\n",
            "Tendencia: Alta\n",
            "Decisión del algoritmo: Esperar\n"
          ]
        }
      ]
    },
    {
      "cell_type": "markdown",
      "source": [
        "## 5. Visualización de Datos\n",
        "\n",
        "5. Visualización: Utiliza la librería Matplotlib para crear un gráfico donde se muestre la evolución del precio del Bitcoin durante el periodo seleccionado, y una línea recta que pase sobre el precio medio. Por último, muestra un mensaje en el gráfico que indique “Vender”, “Comprar” o “” según sea la decisión del algoritmo."
      ],
      "metadata": {
        "id": "KJJfUzHZSbQn"
      }
    },
    {
      "cell_type": "code",
      "source": [
        "algoritmo_decision"
      ],
      "metadata": {
        "colab": {
          "base_uri": "https://localhost:8080/",
          "height": 35
        },
        "id": "MYTPvvmbrCns",
        "outputId": "917abf3e-3479-4844-e708-fb24f69c5748"
      },
      "execution_count": 30,
      "outputs": [
        {
          "output_type": "execute_result",
          "data": {
            "text/plain": [
              "'Esperar'"
            ],
            "application/vnd.google.colaboratory.intrinsic+json": {
              "type": "string"
            }
          },
          "metadata": {},
          "execution_count": 30
        }
      ]
    },
    {
      "cell_type": "code",
      "source": [],
      "metadata": {
        "id": "x5kDVm2Qt5ve"
      },
      "execution_count": null,
      "outputs": []
    },
    {
      "cell_type": "code",
      "source": [
        "\n",
        "def visualizacion():\n",
        "  global df_bitcoin, algoritmo_decision, precio_actual, media_bitcoin, tendencia\n",
        "  #Adiciona una nueva columna (Promedio) al dataframe original df_bitcoiny almacena el valor de nuestra variable media_bitcoin\n",
        "  df_bitcoin['Promedio'] = df_bitcoin['Close'].mean()\n",
        "\n",
        "  # Configurar el tamaño del gráfico en una proporción de 16x5\n",
        "  plt.figure(figsize=(16, 5))\n",
        "\n",
        "  # Añadir un título al gráfico\n",
        "  plt.title('Robot_Trading')\n",
        "\n",
        "  # Dibujar una línea con los datos del índice y la columna 'Close' de la base df_bitcoin\n",
        "  plt.plot(df_bitcoin.index, df_bitcoin['Close'], label='Precio Cierre Bitcoin', color='red')\n",
        "\n",
        "  # Dibujar una línea con los datos del índice y la columna 'Promedio' de la base df_bitcoin\n",
        "  plt.plot(df_bitcoin.index, df_bitcoin['Promedio'], label='Promedio Precio Bitcoin', color='green', linestyle='--')\n",
        "\n",
        "  # Mostrar un mensaje dentro del gráfico con la decisión calculada del algoritmo\n",
        "  xy = (df_bitcoin.index[1000], df_bitcoin['Close'][220])\n",
        "  xytext = (df_bitcoin.index[1250], df_bitcoin['Close'][250])\n",
        "  plt.annotate(algoritmo_decision, xy=xy, xytext=xytext)\n",
        "\n",
        "\n",
        "\n",
        " # Mostrar el gráfico\n",
        "  plt.legend()\n",
        "  plt.show()\n",
        "\n",
        "\n"
      ],
      "metadata": {
        "id": "Uhlr7ZYsufsJ"
      },
      "execution_count": 79,
      "outputs": []
    },
    {
      "cell_type": "code",
      "source": [
        "visualizacion()"
      ],
      "metadata": {
        "colab": {
          "base_uri": "https://localhost:8080/",
          "height": 488
        },
        "id": "bnW83plHuCYX",
        "outputId": "e32c83d6-4ea8-4e5b-f8a9-122c484e611e"
      },
      "execution_count": 80,
      "outputs": [
        {
          "output_type": "display_data",
          "data": {
            "text/plain": [
              "<Figure size 1600x500 with 1 Axes>"
            ],
            "image/png": "[encoded data removed]"
          },
          "metadata": {}
        }
      ]
    },
    {
      "cell_type": "markdown",
      "source": [],
      "metadata": {
        "id": "UHE601IzyRwt"
      }
    },
    {
      "cell_type": "markdown",
      "source": [
        "## 6. Automatización\n",
        "\n",
        "\n",
        "6. Automatización: Finalmente, ahora que tienes el algoritmo de decisión, es hora de automatizar el proceso. Utiliza la librería de Python \"time\" para ejecutar el algoritmo de decisión cada 5 minutos y actualizar el gráfico"
      ],
      "metadata": {
        "id": "un7BiCZUzUHo"
      }
    },
    {
      "cell_type": "code",
      "source": [
        "from IPython.display import clear_output\n",
        "import time\n",
        "\n",
        "while(True):\n",
        "    clear_output()\n",
        "    importar_base_bitcoin()\n",
        "    extraer_tendencias('https://coinmarketcap.com/')\n",
        "    limpieza_datos()\n",
        "    tomar_decisiones()\n",
        "    visualizacion()\n",
        "    time.sleep(300)"
      ],
      "metadata": {
        "colab": {
          "base_uri": "https://localhost:8080/",
          "height": 1000
        },
        "id": "UfYn0agxzh4B",
        "outputId": "7c756c2e-fc27-4122-8bdb-3670902e0fc7"
      },
      "execution_count": null,
      "outputs": [
        {
          "output_type": "stream",
          "name": "stdout",
          "text": [
            "La variacion de ultima hora: 0.04%\n",
            "Tendencia Alta\n",
            "El Precio actual de Bitcoin (USD): 68370.47\n",
            "<span class=\"sc-6a54057-0 YXxPZ\"><span class=\"icon-Caret-up\" style=\"width:12px;height:18px;display:inline-block\"></span>0.04%</span>\n",
            "0.04%\n",
            "Numero de valores nulos en la columna 'Close' : 0\n",
            "No hacer tratamiento de nulos\n",
            "Datos a remover: (920,)\n",
            "Datos despues de quitar los ceros en volumen: (1025, 7)\n"
          ]
        },
        {
          "output_type": "display_data",
          "data": {
            "text/plain": [
              "<Figure size 1000x600 with 1 Axes>"
            ],
            "image/png": "[encoded data removed]"
          },
          "metadata": {}
        },
        {
          "output_type": "stream",
          "name": "stdout",
          "text": [
            "Total del DF sin Outliers: (1025, 7)\n",
            "<class 'pandas.core.frame.DataFrame'>\n",
            "DatetimeIndex: 1025 entries, 2024-03-31 00:05:00+00:00 to 2024-04-06 18:00:00+00:00\n",
            "Data columns (total 7 columns):\n",
            " #   Column        Non-Null Count  Dtype  \n",
            "---  ------        --------------  -----  \n",
            " 0   Open          1025 non-null   float64\n",
            " 1   High          1025 non-null   float64\n",
            " 2   Low           1025 non-null   float64\n",
            " 3   Close         1025 non-null   float64\n",
            " 4   Volume        1025 non-null   int64  \n",
            " 5   Dividends     1025 non-null   float64\n",
            " 6   Stock Splits  1025 non-null   float64\n",
            "dtypes: float64(6), int64(1)\n",
            "memory usage: 64.1 KB\n",
            "Info del DF sin Outliers: None\n",
            "Registros cuyo precio se encuentra entre Q1 y Q3:\n",
            "Total del DF sin Outliers 1 y 3 Q: (513, 7)\n",
            "<class 'pandas.core.frame.DataFrame'>\n",
            "DatetimeIndex: 513 entries, 2024-03-31 00:05:00+00:00 to 2024-04-06 18:00:00+00:00\n",
            "Data columns (total 7 columns):\n",
            " #   Column        Non-Null Count  Dtype  \n",
            "---  ------        --------------  -----  \n",
            " 0   Open          513 non-null    float64\n",
            " 1   High          513 non-null    float64\n",
            " 2   Low           513 non-null    float64\n",
            " 3   Close         513 non-null    float64\n",
            " 4   Volume        513 non-null    int64  \n",
            " 5   Dividends     513 non-null    float64\n",
            " 6   Stock Splits  513 non-null    float64\n",
            "dtypes: float64(6), int64(1)\n",
            "memory usage: 32.1 KB\n",
            "Info del DF sin Outliers 1 y 3 Q: None\n"
          ]
        },
        {
          "output_type": "display_data",
          "data": {
            "text/plain": [
              "<Figure size 1600x500 with 1 Axes>"
            ],
            "image/png": "[encoded data removed]"
          },
          "metadata": {}
        }
      ]
    }
  ]
}